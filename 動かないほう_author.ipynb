{
 "cells": [
  {
   "cell_type": "code",
   "execution_count": 3,
   "metadata": {},
   "outputs": [
    {
     "name": "stdout",
     "output_type": "stream",
     "text": [
      "https://api.elsevier.com/content/search/author?query=AUTHFIRST(John)+AND+AUTHLASTNAME(Kitchin)+AND+SUBJAREA(COMP)&apiKey=a9a8aa106b9cfd22b26747e6557a072c\n",
      "401\n",
      "{\"service-error\":{\"status\":{\"statusCode\":\"AUTHORIZATION_ERROR\",\"statusText\":\"The requestor is not authorized to access the requested view or fields of the resource\"}}}\n",
      "<Response [401]>\n"
     ]
    }
   ],
   "source": [
    "import requests\n",
    "import json\n",
    "import ssl\n",
    "\n",
    "\n",
    "SCOPUS_API_KEY ='a9a8aa106b9cfd22b26747e6557a072c'\n",
    "\n",
    "\n",
    "scopus_author_search_url = 'http://api.elsevier.com/content/search/author?'\\\n",
    "                           'query=AUTHFIRST(John)+AND+AUTHLASTNAME(Kitchin)+AND+SUBJAREA(COMP)'\n",
    "\n",
    "params = {'apiKey': 'a9a8aa106b9cfd22b26747e6557a072c'}\n",
    "\n",
    "page_request = requests.get(scopus_author_search_url, params=params)\n",
    "print(page_request.url)\n",
    "print(page_request.status_code)\n",
    "print(page_request.text)\n",
    "print(page_request)"
   ]
  },
  {
   "cell_type": "code",
   "execution_count": null,
   "metadata": {},
   "outputs": [],
   "source": []
  }
 ],
 "metadata": {
  "kernelspec": {
   "display_name": "Python 3",
   "language": "python",
   "name": "python3"
  },
  "language_info": {
   "codemirror_mode": {
    "name": "ipython",
    "version": 3
   },
   "file_extension": ".py",
   "mimetype": "text/x-python",
   "name": "python",
   "nbconvert_exporter": "python",
   "pygments_lexer": "ipython3",
   "version": "3.7.1"
  }
 },
 "nbformat": 4,
 "nbformat_minor": 2
}
