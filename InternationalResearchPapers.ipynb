{
 "cells": [
  {
   "cell_type": "markdown",
   "metadata": {},
   "source": [
    "Pythonがローカルにインストールされていないパソコンでも、TryJupyterのオンラインのページで動くように作ってあります。\n",
    "\n",
    "https://mybinder.org/v2/gh/ipython/ipython-in-depth/master?filepath=binder/Index.ipynb\n",
    "\n",
    "最初のセルでxlrdを入れないと動かなかったので、最初のセルを置いてあります。"
   ]
  },
  {
   "cell_type": "code",
   "execution_count": 1,
   "metadata": {},
   "outputs": [
    {
     "name": "stdout",
     "output_type": "stream",
     "text": [
      "Requirement already satisfied: xlrd in c:\\users\\owner\\anaconda3\\lib\\site-packages (1.1.0)\n"
     ]
    },
    {
     "name": "stderr",
     "output_type": "stream",
     "text": [
      "You are using pip version 10.0.1, however version 18.0 is available.\n",
      "You should consider upgrading via the 'python -m pip install --upgrade pip' command.\n"
     ]
    }
   ],
   "source": [
    "!pip install xlrd"
   ]
  },
  {
   "cell_type": "code",
   "execution_count": 2,
   "metadata": {},
   "outputs": [],
   "source": [
    "from collections import Counter\n",
    "import pandas as pd\n",
    "import numpy as np\n",
    "pd.set_option(\"display.max_rows\", 4)\n",
    "pd.set_option(\"display.max_columns\", 4)"
   ]
  },
  {
   "cell_type": "code",
   "execution_count": 3,
   "metadata": {},
   "outputs": [],
   "source": [
    "input_book = pd.ExcelFile('Int_papers_scopus2016.xlsx')  \n",
    "input_sheet_name = input_book.sheet_names\n",
    "df = input_book.parse(input_sheet_name[0])"
   ]
  },
  {
   "cell_type": "code",
   "execution_count": 4,
   "metadata": {},
   "outputs": [
    {
     "name": "stdout",
     "output_type": "stream",
     "text": [
      "論文数は\n",
      "604\n",
      "最も多い機関数は\n",
      "89\n"
     ]
    }
   ],
   "source": [
    "#Affiliationsが；で区切られているのでそこでsplitする \n",
    "#pd.concat()で連結（結合）するときに必要な列（Affiliations）だけ選択\n",
    "\n",
    "df3 = pd.concat([df['Affiliations'].str.split(';', expand=True)], axis=1)\n",
    "\n",
    "print('論文数は')\n",
    "print(len(df3))\n",
    "\n",
    "print('最も多い機関数は')\n",
    "print(len(df3.columns))"
   ]
  },
  {
   "cell_type": "code",
   "execution_count": 5,
   "metadata": {},
   "outputs": [
    {
     "name": "stdout",
     "output_type": "stream",
     "text": [
      "この年のscopus論文の総数は\n",
      "604\n",
      "国際共著論文は\n",
      "106\n",
      "日本のみの論文数は\n",
      "498\n",
      "国際共著論文の比率は\n",
      "17.55%\n"
     ]
    }
   ],
   "source": [
    "#行と列を入れ替えたデータフレーム\n",
    "df4 = df3.T\n",
    "\n",
    "df10 = pd.DataFrame(df4.count())\n",
    "#カラムに名前を付ける\n",
    "df10.columns = ['Affiliations']\n",
    "\n",
    "#各論文（各カラム）の中に'Japan’所属の機関の数がいくつあるか\n",
    "#Japanの機関数をdf5とする\n",
    "#python pandas forループの計算結果をデータフレームに入れる方法がわからなくて検索したところ、\n",
    "#一度numpy配列に入れてからデータフレームに変換することでできるとの方法を見つけてやってみる　→できた\n",
    "\n",
    "x = np.zeros(len(df4.columns), dtype=np.int64)  #データ型をintに指定\n",
    "for i in range(len(df4.columns)):\n",
    "        df5 = df4[i].str.contains('Japan').sum()\n",
    "        x[i] = df5\n",
    "df5 = pd.DataFrame(x)\n",
    "df5.columns = ['Japan']\n",
    "\n",
    "#各論文（各カラム）の機関数と比較して、'Japan'所属の機関数と等しければ国内論文、数が異なれば国際共著論文と判断する\n",
    "\n",
    "#各論文の機関の数（df10)と日本機関の数(df5)を一つのデータフレームにする\n",
    "df11 = pd.concat([df10, df5], axis=1)\n",
    "\n",
    "#機関の数と日本機関の数が等しくないところをTrue=Internationalとする\n",
    "df11['International'] = (df11['Affiliations']!=df11['Japan'])\n",
    "\n",
    "print('この年のscopus論文の総数は')\n",
    "print(len(df4.columns))\n",
    "\n",
    "International = df11['International']==True\n",
    "print('国際共著論文は')\n",
    "print(International.sum())\n",
    "\n",
    "Domestic = df11['International']==False\n",
    "print('日本のみの論文数は')\n",
    "print(Domestic.sum())\n",
    "\n",
    "print('国際共著論文の比率は')\n",
    "print(str(round(International.sum()/len(df4.columns)*100,2)) +'%')"
   ]
  },
  {
   "cell_type": "code",
   "execution_count": null,
   "metadata": {},
   "outputs": [],
   "source": []
  }
 ],
 "metadata": {
  "kernelspec": {
   "display_name": "Python 3",
   "language": "python",
   "name": "python3"
  },
  "language_info": {
   "codemirror_mode": {
    "name": "ipython",
    "version": 3
   },
   "file_extension": ".py",
   "mimetype": "text/x-python",
   "name": "python",
   "nbconvert_exporter": "python",
   "pygments_lexer": "ipython3",
   "version": "3.6.5"
  }
 },
 "nbformat": 4,
 "nbformat_minor": 2
}
