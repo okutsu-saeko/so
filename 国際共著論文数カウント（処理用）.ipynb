{
 "cells": [
  {
   "cell_type": "code",
   "execution_count": 4,
   "metadata": {},
   "outputs": [],
   "source": [
    "from collections import Counter\n",
    "import pandas as pd\n",
    "import numpy as np\n",
    "pd.set_option(\"display.max_rows\", 4)\n",
    "pd.set_option(\"display.max_columns\", 4)"
   ]
  },
  {
   "cell_type": "code",
   "execution_count": 5,
   "metadata": {},
   "outputs": [],
   "source": [
    "df = pd.read_csv('Int_papers_scopus2017.xml', header=0)\n",
    "#Affiliationsの列だけを読み出す\n",
    "df_header_usecols = pd.read_csv('Int_papers_scopus2017.xml', usecols=['Affiliations'])"
   ]
  },
  {
   "cell_type": "markdown",
   "metadata": {},
   "source": [
    "#Affiliationsが；で区切られているのでそこでsplitする\n",
    "#print(df['Affiliations'].str.split(';', expand=True))\n",
    "#それをデータフレームにする\n",
    "#pd.concat()で連結（結合）するときに必要な列（Affiliations）だけ選択"
   ]
  },
  {
   "cell_type": "code",
   "execution_count": 6,
   "metadata": {},
   "outputs": [
    {
     "name": "stdout",
     "output_type": "stream",
     "text": [
      "618\n",
      "58\n"
     ]
    }
   ],
   "source": [
    "df3 = pd.concat([df['Affiliations'].str.split(';', expand=True)], axis=1)\n",
    "\n",
    "#行数を取得=論文の数\n",
    "print(len(df3))\n",
    "\n",
    "#列数を取得\n",
    "print(len(df3.columns))\n",
    "#機関数が一番多いところの列数になる"
   ]
  },
  {
   "cell_type": "markdown",
   "metadata": {},
   "source": [
    "#カラムじゃないとやりづらかったので、入れ替え\n",
    "#行と列を入れ替えたデータフレーム (列カラムが各論文の機関名)"
   ]
  },
  {
   "cell_type": "code",
   "execution_count": 8,
   "metadata": {},
   "outputs": [
    {
     "name": "stdout",
     "output_type": "stream",
     "text": [
      "0       2\n",
      "1       5\n",
      "       ..\n",
      "616    15\n",
      "617    28\n",
      "Length: 618, dtype: int64\n"
     ]
    }
   ],
   "source": [
    "df4 = df3.T\n",
    "\n",
    "#列ごとに（各論文）ごとに欠損値でない要素の個数をカウント（=機関数）\n",
    "print(df4.count())\n",
    "\n",
    "#次は、このうち何個Japanを含むかを計算"
   ]
  },
  {
   "cell_type": "code",
   "execution_count": 10,
   "metadata": {},
   "outputs": [],
   "source": [
    "df10 = pd.DataFrame(df4.count())\n",
    "#カラムに名前を付ける\n",
    "df10.columns = ['Affiliations']"
   ]
  },
  {
   "cell_type": "code",
   "execution_count": 11,
   "metadata": {},
   "outputs": [],
   "source": [
    "#各論文（各カラム）の中に'Japan’所属の機関の数がいくつあるか\n",
    "#Japanの機関数をdf5とする\n",
    "#python pandas forループの計算結果をデータフレームに入れる方法がわからなくて検索したところ、\n",
    "#一度numpy配列に入れてからデータフレームに変換することでできるとの方法を見つけてやってみる　→できた\n",
    "\n",
    "x = np.zeros(len(df4.columns), dtype=np.int64)  #データ型をintに指定\n",
    "for i in range(len(df4.columns)):\n",
    "        df5 = df4[i].str.contains('Japan').sum()\n",
    "        x[i] = df5\n",
    "df5 = pd.DataFrame(x)\n",
    "df5.columns = ['Japan']\n",
    "#各論文（各カラム）の機関数=AffiliationNumberと比較して、'Japan'所属の機関数と等しければ国内論文、数が異なれば国際共著論文と判断する"
   ]
  },
  {
   "cell_type": "code",
   "execution_count": 12,
   "metadata": {},
   "outputs": [
    {
     "name": "stdout",
     "output_type": "stream",
     "text": [
      "     Affiliations  Japan\n",
      "0               2      2\n",
      "1               5      5\n",
      "..            ...    ...\n",
      "616            15      8\n",
      "617            28     28\n",
      "\n",
      "[618 rows x 2 columns]\n"
     ]
    }
   ],
   "source": [
    "#各論文の機関の数（df10)と日本機関の数(df5)を一つのデータフレームにする\n",
    "df11 = pd.concat([df10, df5], axis=1)\n",
    "print(df11)"
   ]
  },
  {
   "cell_type": "code",
   "execution_count": 13,
   "metadata": {},
   "outputs": [
    {
     "data": {
      "text/plain": [
       "0      False\n",
       "1      False\n",
       "       ...  \n",
       "616     True\n",
       "617    False\n",
       "Name: International, Length: 618, dtype: bool"
      ]
     },
     "execution_count": 13,
     "metadata": {},
     "output_type": "execute_result"
    }
   ],
   "source": [
    "#機関の数と日本機関の数が等しくないところをTrue=Internationalとする\n",
    "df11['International'] = (df11['Affiliations']!=df11['Japan'])\n",
    "df11['International']"
   ]
  },
  {
   "cell_type": "code",
   "execution_count": 20,
   "metadata": {},
   "outputs": [
    {
     "name": "stdout",
     "output_type": "stream",
     "text": [
      "この年のscopus論文の総数は\n",
      "618\n",
      "国際共著論文は\n",
      "126\n",
      "日本のみの論文数は\n",
      "492\n"
     ]
    }
   ],
   "source": [
    "print('この年のscopus論文の総数は')\n",
    "print(len(df4.columns))\n",
    "\n",
    "International = df11['International']==True\n",
    "print('国際共著論文は')\n",
    "print(International.sum())\n",
    "\n",
    "Domestic = df11['International']==False\n",
    "print('日本のみの論文数は')\n",
    "print(Domestic.sum())"
   ]
  },
  {
   "cell_type": "code",
   "execution_count": null,
   "metadata": {},
   "outputs": [],
   "source": []
  }
 ],
 "metadata": {
  "kernelspec": {
   "display_name": "Python 3",
   "language": "python",
   "name": "python3"
  },
  "language_info": {
   "codemirror_mode": {
    "name": "ipython",
    "version": 3
   },
   "file_extension": ".py",
   "mimetype": "text/x-python",
   "name": "python",
   "nbconvert_exporter": "python",
   "pygments_lexer": "ipython3",
   "version": "3.6.5"
  }
 },
 "nbformat": 4,
 "nbformat_minor": 2
}
