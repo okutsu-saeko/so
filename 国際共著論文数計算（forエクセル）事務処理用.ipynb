{
 "cells": [
  {
   "cell_type": "code",
   "execution_count": null,
   "metadata": {},
   "outputs": [],
   "source": [
    "!pip install xlrd"
   ]
  },
  {
   "cell_type": "code",
   "execution_count": 22,
   "metadata": {},
   "outputs": [],
   "source": [
    "from collections import Counter\n",
    "import pandas as pd\n",
    "import numpy as np\n",
    "pd.set_option(\"display.max_rows\", 4)\n",
    "pd.set_option(\"display.max_columns\", 4)"
   ]
  },
  {
   "cell_type": "code",
   "execution_count": 23,
   "metadata": {},
   "outputs": [
    {
     "data": {
      "text/html": [
       "<div>\n",
       "<style scoped>\n",
       "    .dataframe tbody tr th:only-of-type {\n",
       "        vertical-align: middle;\n",
       "    }\n",
       "\n",
       "    .dataframe tbody tr th {\n",
       "        vertical-align: top;\n",
       "    }\n",
       "\n",
       "    .dataframe thead th {\n",
       "        text-align: right;\n",
       "    }\n",
       "</style>\n",
       "<table border=\"1\" class=\"dataframe\">\n",
       "  <thead>\n",
       "    <tr style=\"text-align: right;\">\n",
       "      <th></th>\n",
       "      <th>Authors</th>\n",
       "      <th>Title</th>\n",
       "      <th>...</th>\n",
       "      <th>Affiliations</th>\n",
       "      <th>Authors with affiliations</th>\n",
       "    </tr>\n",
       "  </thead>\n",
       "  <tbody>\n",
       "    <tr>\n",
       "      <th>0</th>\n",
       "      <td>Yoshida Y., Furukawa Y., Ogasawara H., Yuda E....</td>\n",
       "      <td>Longer lying position causes lower LF/HF of he...</td>\n",
       "      <td>...</td>\n",
       "      <td>Department of Medical Education, Nagoya City U...</td>\n",
       "      <td>Yoshida, Y., Department of Medical Education, ...</td>\n",
       "    </tr>\n",
       "    <tr>\n",
       "      <th>1</th>\n",
       "      <td>Muramatsu A., Shimizu Y., Yoshikawa Y., Fukuda...</td>\n",
       "      <td>Naturally occurring branched-chain polyamines ...</td>\n",
       "      <td>...</td>\n",
       "      <td>Faculty of Life and Medical Sciences, Doshisha...</td>\n",
       "      <td>Muramatsu, A., Faculty of Life and Medical Sci...</td>\n",
       "    </tr>\n",
       "    <tr>\n",
       "      <th>...</th>\n",
       "      <td>...</td>\n",
       "      <td>...</td>\n",
       "      <td>...</td>\n",
       "      <td>...</td>\n",
       "      <td>...</td>\n",
       "    </tr>\n",
       "    <tr>\n",
       "      <th>602</th>\n",
       "      <td>The Committee for Recommendation of Occupation...</td>\n",
       "      <td>Occupational Exposure Limits of lead, dimethyl...</td>\n",
       "      <td>...</td>\n",
       "      <td>Kindai University, Japan; Osaka City Universit...</td>\n",
       "      <td>The Committee for Recommendation of Occupation...</td>\n",
       "    </tr>\n",
       "    <tr>\n",
       "      <th>603</th>\n",
       "      <td>Matsumoto T., Motoya S., Watanabe K., Hisamats...</td>\n",
       "      <td>Adalimumab monotherapy and a combination with ...</td>\n",
       "      <td>...</td>\n",
       "      <td>Division of Gastroenterology, Department of Me...</td>\n",
       "      <td>Matsumoto, T., Division of Gastroenterology, D...</td>\n",
       "    </tr>\n",
       "  </tbody>\n",
       "</table>\n",
       "<p>604 rows × 6 columns</p>\n",
       "</div>"
      ],
      "text/plain": [
       "                                               Authors  \\\n",
       "0    Yoshida Y., Furukawa Y., Ogasawara H., Yuda E....   \n",
       "1    Muramatsu A., Shimizu Y., Yoshikawa Y., Fukuda...   \n",
       "..                                                 ...   \n",
       "602  The Committee for Recommendation of Occupation...   \n",
       "603  Matsumoto T., Motoya S., Watanabe K., Hisamats...   \n",
       "\n",
       "                                                 Title  \\\n",
       "0    Longer lying position causes lower LF/HF of he...   \n",
       "1    Naturally occurring branched-chain polyamines ...   \n",
       "..                                                 ...   \n",
       "602  Occupational Exposure Limits of lead, dimethyl...   \n",
       "603  Adalimumab monotherapy and a combination with ...   \n",
       "\n",
       "                           ...                          \\\n",
       "0                          ...                           \n",
       "1                          ...                           \n",
       "..                         ...                           \n",
       "602                        ...                           \n",
       "603                        ...                           \n",
       "\n",
       "                                          Affiliations  \\\n",
       "0    Department of Medical Education, Nagoya City U...   \n",
       "1    Faculty of Life and Medical Sciences, Doshisha...   \n",
       "..                                                 ...   \n",
       "602  Kindai University, Japan; Osaka City Universit...   \n",
       "603  Division of Gastroenterology, Department of Me...   \n",
       "\n",
       "                             Authors with affiliations  \n",
       "0    Yoshida, Y., Department of Medical Education, ...  \n",
       "1    Muramatsu, A., Faculty of Life and Medical Sci...  \n",
       "..                                                 ...  \n",
       "602  The Committee for Recommendation of Occupation...  \n",
       "603  Matsumoto, T., Division of Gastroenterology, D...  \n",
       "\n",
       "[604 rows x 6 columns]"
      ]
     },
     "execution_count": 23,
     "metadata": {},
     "output_type": "execute_result"
    }
   ],
   "source": [
    "input_book = pd.ExcelFile('Int_papers_scopus2016.xlsx')  \n",
    "input_sheet_name = input_book.sheet_names\n",
    "df = input_book.parse(input_sheet_name[0])\n",
    "df"
   ]
  },
  {
   "cell_type": "code",
   "execution_count": 24,
   "metadata": {},
   "outputs": [
    {
     "name": "stdout",
     "output_type": "stream",
     "text": [
      "論文数は\n",
      "604\n",
      "最も多い機関数は\n",
      "89\n"
     ]
    }
   ],
   "source": [
    "#Affiliationsが；で区切られているのでそこでsplitする \n",
    "#pd.concat()で連結（結合）するときに必要な列（Affiliations）だけ選択\n",
    "\n",
    "df3 = pd.concat([df['Affiliations'].str.split(';', expand=True)], axis=1)\n",
    "\n",
    "print('論文数は')\n",
    "print(len(df3))\n",
    "\n",
    "print('最も多い機関数は')\n",
    "print(len(df3.columns))"
   ]
  },
  {
   "cell_type": "code",
   "execution_count": 26,
   "metadata": {},
   "outputs": [
    {
     "name": "stdout",
     "output_type": "stream",
     "text": [
      "この年のscopus論文の総数は\n",
      "604\n",
      "国際共著論文は\n",
      "106\n",
      "日本のみの論文数は\n",
      "498\n",
      "国際共著論文の比率は17.549668874172188%\n"
     ]
    }
   ],
   "source": [
    "#行と列を入れ替えたデータフレーム\n",
    "df4 = df3.T\n",
    "\n",
    "df10 = pd.DataFrame(df4.count())\n",
    "#カラムに名前を付ける\n",
    "df10.columns = ['Affiliations']\n",
    "\n",
    "#各論文（各カラム）の中に'Japan’所属の機関の数がいくつあるか\n",
    "#Japanの機関数をdf5とする\n",
    "#python pandas forループの計算結果をデータフレームに入れる方法がわからなくて検索したところ、\n",
    "#一度numpy配列に入れてからデータフレームに変換することでできるとの方法を見つけてやってみる　→できた\n",
    "\n",
    "x = np.zeros(len(df4.columns), dtype=np.int64)  #データ型をintに指定\n",
    "for i in range(len(df4.columns)):\n",
    "        df5 = df4[i].str.contains('Japan').sum()\n",
    "        x[i] = df5\n",
    "df5 = pd.DataFrame(x)\n",
    "df5.columns = ['Japan']\n",
    "\n",
    "#各論文（各カラム）の機関数=AffiliationNumberと比較して、'Japan'所属の機関数と等しければ国内論文、数が異なれば国際共著論文と判断する\n",
    "\n",
    "#各論文の機関の数（df10)と日本機関の数(df5)を一つのデータフレームにする\n",
    "df11 = pd.concat([df10, df5], axis=1)\n",
    "\n",
    "#機関の数と日本機関の数が等しくないところをTrue=Internationalとする\n",
    "df11['International'] = (df11['Affiliations']!=df11['Japan'])\n",
    "\n",
    "print('この年のscopus論文の総数は')\n",
    "print(len(df4.columns))\n",
    "\n",
    "International = df11['International']==True\n",
    "print('国際共著論文は')\n",
    "print(International.sum())\n",
    "\n",
    "Domestic = df11['International']==False\n",
    "print('日本のみの論文数は')\n",
    "print(Domestic.sum())\n",
    "\n",
    "print('国際共著論文の比率は')\n",
    "print(str(round(International.sum()/len(df4.columns)*100,2)) +'%')"
   ]
  },
  {
   "cell_type": "code",
   "execution_count": null,
   "metadata": {},
   "outputs": [],
   "source": []
  }
 ],
 "metadata": {
  "kernelspec": {
   "display_name": "Python 3",
   "language": "python",
   "name": "python3"
  },
  "language_info": {
   "codemirror_mode": {
    "name": "ipython",
    "version": 3
   },
   "file_extension": ".py",
   "mimetype": "text/x-python",
   "name": "python",
   "nbconvert_exporter": "python",
   "pygments_lexer": "ipython3",
   "version": "3.6.5"
  }
 },
 "nbformat": 4,
 "nbformat_minor": 2
}
