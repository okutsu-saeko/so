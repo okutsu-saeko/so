{
 "cells": [
  {
   "cell_type": "code",
   "execution_count": 9,
   "metadata": {},
   "outputs": [],
   "source": [
    "# encoding: utf-8\n",
    "import configparser\n",
    "\n",
    "config = configparser.ConfigParser()\n",
    "config['mariadb'] = {}\n",
    "config['CiNii_web_api'] = {}\n",
    "\n",
    "# ローカルのMariaDB\n",
    "config['mariadb']['username'] = 'root'\n",
    "config['mariadb']['password'] = '8589'\n",
    "config['mariadb']['database'] = 'data_analysis'\n",
    "\n",
    "# CiNii ウェブ API\n",
    "config['CiNii_web_api']['appid'] = 'sf1PCGzw1qulFstt2NFH' # 右辺にappid文字列を指定\n",
    "\n",
    "with open('config.ini', 'w') as configfile:\n",
    "    config.write(configfile)"
   ]
  },
  {
   "cell_type": "code",
   "execution_count": 10,
   "metadata": {},
   "outputs": [
    {
     "name": "stderr",
     "output_type": "stream",
     "text": [
      "C:\\Users\\OWNER\\Anaconda3\\lib\\site-packages\\tqdm\\_monitor.py:89: TqdmSynchronisationWarning: Set changed size during iteration (see https://github.com/tqdm/tqdm/issues/481)\n",
      "  TqdmSynchronisationWarning)\n"
     ]
    }
   ],
   "source": [
    "import requests\n",
    "from bs4 import BeautifulSoup\n",
    "import re\n",
    "import time\n",
    "from tqdm import tqdm_notebook\n",
    "import configparser"
   ]
  },
  {
   "cell_type": "code",
   "execution_count": 11,
   "metadata": {},
   "outputs": [],
   "source": [
    "config = configparser.ConfigParser()\n",
    "config.read('config.ini')\n",
    "appid = config['CiNii_web_api']['appid']"
   ]
  },
  {
   "cell_type": "code",
   "execution_count": 12,
   "metadata": {},
   "outputs": [
    {
     "data": {
      "application/vnd.jupyter.widget-view+json": {
       "model_id": "40f7b209140646b8919f2ab41feded28",
       "version_major": 2,
       "version_minor": 0
      },
      "text/plain": [
       "HBox(children=(IntProgress(value=0, max=4), HTML(value='')))"
      ]
     },
     "metadata": {},
     "output_type": "display_data"
    },
    {
     "data": {
      "application/vnd.jupyter.widget-view+json": {
       "model_id": "3da17746ab9e4831bb9797c02bc516f1",
       "version_major": 2,
       "version_minor": 0
      },
      "text/plain": [
       "HBox(children=(IntProgress(value=0, max=60), HTML(value='')))"
      ]
     },
     "metadata": {},
     "output_type": "display_data"
    },
    {
     "name": "stderr",
     "output_type": "stream",
     "text": [
      "C:\\Users\\OWNER\\Anaconda3\\lib\\site-packages\\tqdm\\_monitor.py:89: TqdmSynchronisationWarning: Set changed size during iteration (see https://github.com/tqdm/tqdm/issues/481)\n",
      "  TqdmSynchronisationWarning)\n"
     ]
    },
    {
     "data": {
      "application/vnd.jupyter.widget-view+json": {
       "model_id": "66c2d20568c444bbb90bfa8b88022815",
       "version_major": 2,
       "version_minor": 0
      },
      "text/plain": [
       "HBox(children=(IntProgress(value=0, max=61), HTML(value='')))"
      ]
     },
     "metadata": {},
     "output_type": "display_data"
    },
    {
     "data": {
      "application/vnd.jupyter.widget-view+json": {
       "model_id": "d92d14194c4a4ff4ad1fc5af3eb79a0a",
       "version_major": 2,
       "version_minor": 0
      },
      "text/plain": [
       "HBox(children=(IntProgress(value=0, max=63), HTML(value='')))"
      ]
     },
     "metadata": {},
     "output_type": "display_data"
    },
    {
     "data": {
      "application/vnd.jupyter.widget-view+json": {
       "model_id": "71fafe7890e34e32a971f9652a891edc",
       "version_major": 2,
       "version_minor": 0
      },
      "text/plain": [
       "HBox(children=(IntProgress(value=0, max=59), HTML(value='')))"
      ]
     },
     "metadata": {},
     "output_type": "display_data"
    }
   ],
   "source": [
    "for year in tqdm_notebook(range(2014, 2018)):\n",
    "    KAKEN_ROOT_URL = 'https://kaken.nii.ac.jp/opensearch/?appid=' + appid\n",
    "    rw = 500\n",
    "\n",
    "    \"\"\"ある年度の件数を取得する。\"\"\"\n",
    "    #URL生成\n",
    "    url = KAKEN_ROOT_URL + '&format=xhtml' + '&s1=' + str(year) + '&s2=' + str(year) + '&o1=1'\n",
    "\n",
    "    r = requests.get(url)\n",
    "    html = r.text\n",
    "\n",
    "    soup = BeautifulSoup(html, \"lxml\")\n",
    "    tag = soup.select(\"p.search-term-selected\")\n",
    "    p = str(tag[0])\n",
    "\n",
    "    #数字＝件数を抽出する\n",
    "    pattern = r'([+-]?[0-9]+\\,?[0-9]*)'\n",
    "    numberlist = re.findall(pattern,p)\n",
    "    cnt = str(numberlist[0])\n",
    "    cnt = int(cnt.replace(',', ''))\n",
    "    #cnt\n",
    "    \n",
    "    for start in tqdm_notebook(range(1, cnt, rw)):\n",
    "        \"\"\"KAKEN API用URLを作成してレスポンスを返す。ファイルを保存する\"\"\"\n",
    "        if start + rw > cnt:\n",
    "            end = cnt\n",
    "        else:\n",
    "            end = start + rw - 1\n",
    "\n",
    "        url = KAKEN_ROOT_URL + '&format=xml' + '&s1=' + str(year) + '&s2=' + str(year) + '&o1=1' + '&st=' + str(start) + '&rw=' + str(rw)\n",
    "        r = requests.get(url)\n",
    "        if r.status_code == 200:\n",
    "            filename = 'xml/' + str(year) + '_' + str(start) + '-' + str(end) + '.xml'\n",
    "            with open(filename, mode='w', encoding='utf-8') as f:\n",
    "                f.write(r.text)"
   ]
  },
  {
   "cell_type": "code",
   "execution_count": null,
   "metadata": {},
   "outputs": [],
   "source": []
  }
 ],
 "metadata": {
  "kernelspec": {
   "display_name": "Python 3",
   "language": "python",
   "name": "python3"
  },
  "language_info": {
   "codemirror_mode": {
    "name": "ipython",
    "version": 3
   },
   "file_extension": ".py",
   "mimetype": "text/x-python",
   "name": "python",
   "nbconvert_exporter": "python",
   "pygments_lexer": "ipython3",
   "version": "3.6.5"
  }
 },
 "nbformat": 4,
 "nbformat_minor": 2
}
