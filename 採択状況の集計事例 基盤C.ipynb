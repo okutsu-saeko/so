{
 "cells": [
  {
   "cell_type": "code",
   "execution_count": 1,
   "metadata": {},
   "outputs": [],
   "source": [
    "import pandas as pd\n",
    "import numpy as np\n",
    "import pickle\n",
    "import configparser\n",
    "from sqlalchemy import create_engine\n",
    "from sqlalchemy.types import String, Integer\n",
    "import seaborn as sns\n",
    "import matplotlib.pyplot as plt\n",
    "plt.style.use('ggplot')\n",
    "%matplotlib inline\n",
    "\n",
    "config = configparser.ConfigParser()\n",
    "config.read('config.ini')\n",
    "username = config['mariadb']['username']\n",
    "password = config['mariadb']['password']\n",
    "database = config['mariadb']['database']\n",
    "url = 'mysql+pymysql://' + username + ':' + password + '@localhost:3306/' + database + '?charset=utf8'\n",
    "engine = create_engine(url)"
   ]
  },
  {
   "cell_type": "code",
   "execution_count": 2,
   "metadata": {},
   "outputs": [],
   "source": [
    "sql = '''\n",
    "SELECT *\n",
    "FROM grantaward\n",
    "LEFT OUTER JOIN kaken_master_category USING (category_niicode)\n",
    "LEFT OUTER JOIN kaken_master_section USING (section_niicode)\n",
    "LEFT OUTER JOIN kaken_master_institution USING (institution_niicode)\n",
    "WHERE grantaward.startfiscalyear >= 2009\n",
    "AND grantaward.category_niicode = 72\n",
    "'''\n",
    "df = pd.read_sql_query(sql, engine)"
   ]
  },
  {
   "cell_type": "code",
   "execution_count": 3,
   "metadata": {},
   "outputs": [
    {
     "data": {
      "text/html": [
       "<div>\n",
       "<style scoped>\n",
       "    .dataframe tbody tr th:only-of-type {\n",
       "        vertical-align: middle;\n",
       "    }\n",
       "\n",
       "    .dataframe tbody tr th {\n",
       "        vertical-align: top;\n",
       "    }\n",
       "\n",
       "    .dataframe thead th {\n",
       "        text-align: right;\n",
       "    }\n",
       "</style>\n",
       "<table border=\"1\" class=\"dataframe\">\n",
       "  <thead>\n",
       "    <tr style=\"text-align: right;\">\n",
       "      <th></th>\n",
       "      <th>startfiscalyear</th>\n",
       "      <th>2014</th>\n",
       "      <th>2015</th>\n",
       "      <th>2016</th>\n",
       "      <th>2017</th>\n",
       "      <th>2018</th>\n",
       "    </tr>\n",
       "    <tr>\n",
       "      <th>category_name</th>\n",
       "      <th>section_name</th>\n",
       "      <th></th>\n",
       "      <th></th>\n",
       "      <th></th>\n",
       "      <th></th>\n",
       "      <th></th>\n",
       "    </tr>\n",
       "  </thead>\n",
       "  <tbody>\n",
       "    <tr>\n",
       "      <th rowspan=\"2\" valign=\"top\">基盤研究(C)</th>\n",
       "      <th>一般</th>\n",
       "      <td>10550</td>\n",
       "      <td>11321</td>\n",
       "      <td>11732</td>\n",
       "      <td>11983</td>\n",
       "      <td>12175</td>\n",
       "    </tr>\n",
       "    <tr>\n",
       "      <th>特設分野</th>\n",
       "      <td>30</td>\n",
       "      <td>68</td>\n",
       "      <td>82</td>\n",
       "      <td>71</td>\n",
       "      <td>0</td>\n",
       "    </tr>\n",
       "  </tbody>\n",
       "</table>\n",
       "</div>"
      ],
      "text/plain": [
       "startfiscalyear              2014   2015   2016   2017   2018\n",
       "category_name section_name                                   \n",
       "基盤研究(C)       一般            10550  11321  11732  11983  12175\n",
       "              特設分野             30     68     82     71      0"
      ]
     },
     "execution_count": 3,
     "metadata": {},
     "output_type": "execute_result"
    }
   ],
   "source": [
    "pivot = pd.crosstab([df['category_name'], df['section_name']], df['startfiscalyear'])\n",
    "pivot"
   ]
  },
  {
   "cell_type": "code",
   "execution_count": 4,
   "metadata": {},
   "outputs": [
    {
     "data": {
      "text/plain": [
       "Text(0,0.5,'採択件数')"
      ]
     },
     "execution_count": 4,
     "metadata": {},
     "output_type": "execute_result"
    },
    {
     "data": {
      "image/png": "[encoded data removed]",
      "text/plain": [
       "<Figure size 432x288 with 1 Axes>"
      ]
     },
     "metadata": {},
     "output_type": "display_data"
    }
   ],
   "source": [
    "pivot = pivot.T\n",
    "pivot.plot()\n",
    "plt.legend(bbox_to_anchor=(1.05, 1), loc='upper left', borderaxespad=0, fontsize=12)\n",
    "plt.xlabel(\"採択年度\")\n",
    "plt.ylabel(\"採択件数\")"
   ]
  },
  {
   "cell_type": "code",
   "execution_count": 5,
   "metadata": {},
   "outputs": [],
   "source": [
    "df = df.query('section_niicode == 17')"
   ]
  },
  {
   "cell_type": "code",
   "execution_count": 6,
   "metadata": {},
   "outputs": [
    {
     "data": {
      "text/html": [
       "<div>\n",
       "<style scoped>\n",
       "    .dataframe tbody tr th:only-of-type {\n",
       "        vertical-align: middle;\n",
       "    }\n",
       "\n",
       "    .dataframe tbody tr th {\n",
       "        vertical-align: top;\n",
       "    }\n",
       "\n",
       "    .dataframe thead th {\n",
       "        text-align: right;\n",
       "    }\n",
       "</style>\n",
       "<table border=\"1\" class=\"dataframe\">\n",
       "  <thead>\n",
       "    <tr style=\"text-align: right;\">\n",
       "      <th>startfiscalyear</th>\n",
       "      <th>2014</th>\n",
       "      <th>2015</th>\n",
       "      <th>2016</th>\n",
       "      <th>2017</th>\n",
       "      <th>2018</th>\n",
       "    </tr>\n",
       "    <tr>\n",
       "      <th>institution_name</th>\n",
       "      <th></th>\n",
       "      <th></th>\n",
       "      <th></th>\n",
       "      <th></th>\n",
       "      <th></th>\n",
       "    </tr>\n",
       "  </thead>\n",
       "  <tbody>\n",
       "    <tr>\n",
       "      <th>東京大学</th>\n",
       "      <td>249</td>\n",
       "      <td>287</td>\n",
       "      <td>280</td>\n",
       "      <td>273</td>\n",
       "      <td>344</td>\n",
       "    </tr>\n",
       "    <tr>\n",
       "      <th>京都大学</th>\n",
       "      <td>229</td>\n",
       "      <td>278</td>\n",
       "      <td>281</td>\n",
       "      <td>244</td>\n",
       "      <td>288</td>\n",
       "    </tr>\n",
       "    <tr>\n",
       "      <th>大阪大学</th>\n",
       "      <td>235</td>\n",
       "      <td>256</td>\n",
       "      <td>254</td>\n",
       "      <td>267</td>\n",
       "      <td>282</td>\n",
       "    </tr>\n",
       "    <tr>\n",
       "      <th>東北大学</th>\n",
       "      <td>220</td>\n",
       "      <td>240</td>\n",
       "      <td>256</td>\n",
       "      <td>233</td>\n",
       "      <td>268</td>\n",
       "    </tr>\n",
       "    <tr>\n",
       "      <th>九州大学</th>\n",
       "      <td>225</td>\n",
       "      <td>245</td>\n",
       "      <td>212</td>\n",
       "      <td>219</td>\n",
       "      <td>236</td>\n",
       "    </tr>\n",
       "    <tr>\n",
       "      <th>北海道大学</th>\n",
       "      <td>196</td>\n",
       "      <td>151</td>\n",
       "      <td>183</td>\n",
       "      <td>189</td>\n",
       "      <td>196</td>\n",
       "    </tr>\n",
       "    <tr>\n",
       "      <th>名古屋大学</th>\n",
       "      <td>158</td>\n",
       "      <td>180</td>\n",
       "      <td>183</td>\n",
       "      <td>184</td>\n",
       "      <td>173</td>\n",
       "    </tr>\n",
       "  </tbody>\n",
       "</table>\n",
       "</div>"
      ],
      "text/plain": [
       "startfiscalyear   2014  2015  2016  2017  2018\n",
       "institution_name                              \n",
       "東京大学               249   287   280   273   344\n",
       "京都大学               229   278   281   244   288\n",
       "大阪大学               235   256   254   267   282\n",
       "東北大学               220   240   256   233   268\n",
       "九州大学               225   245   212   219   236\n",
       "北海道大学              196   151   183   189   196\n",
       "名古屋大学              158   180   183   184   173"
      ]
     },
     "execution_count": 6,
     "metadata": {},
     "output_type": "execute_result"
    }
   ],
   "source": [
    "teidaicode = [10101, 11301, 12601, 13901, 14301, 14401, 17102]\n",
    "teidai = df[df['institution_niicode'].isin(teidaicode)]\n",
    "pivot = pd.crosstab(teidai['institution_name'], teidai['startfiscalyear'])\n",
    "pivot = pivot.sort_values(2018, ascending=False)\n",
    "pivot"
   ]
  },
  {
   "cell_type": "code",
   "execution_count": 7,
   "metadata": {
    "scrolled": true
   },
   "outputs": [
    {
     "data": {
      "text/plain": [
       "(0, 353.65)"
      ]
     },
     "execution_count": 7,
     "metadata": {},
     "output_type": "execute_result"
    },
    {
     "data": {
      "image/png": "[encoded data removed]",
      "text/plain": [
       "<Figure size 432x288 with 1 Axes>"
      ]
     },
     "metadata": {},
     "output_type": "display_data"
    }
   ],
   "source": [
    "pivot = pd.crosstab(teidai['institution_name'], teidai['startfiscalyear'])\n",
    "pivot = pivot.sort_values(2018, ascending=False)\n",
    "pivot = pivot.T\n",
    "ax = pivot.plot()\n",
    "ax.set_title('基盤C一般の新規採択件数')\n",
    "ax.legend(bbox_to_anchor=(1.05, 1), loc='upper left', borderaxespad=0, fontsize=12)\n",
    "ax.set_xlabel(\"採択年度\")\n",
    "ax.set_ylabel(\"採択件数\")\n",
    "ax.set_ylim(0)"
   ]
  },
  {
   "cell_type": "code",
   "execution_count": 18,
   "metadata": {},
   "outputs": [
    {
     "data": {
      "text/html": [
       "<div>\n",
       "<style scoped>\n",
       "    .dataframe tbody tr th:only-of-type {\n",
       "        vertical-align: middle;\n",
       "    }\n",
       "\n",
       "    .dataframe tbody tr th {\n",
       "        vertical-align: top;\n",
       "    }\n",
       "\n",
       "    .dataframe thead th {\n",
       "        text-align: right;\n",
       "    }\n",
       "</style>\n",
       "<table border=\"1\" class=\"dataframe\">\n",
       "  <thead>\n",
       "    <tr style=\"text-align: right;\">\n",
       "      <th>startfiscalyear</th>\n",
       "      <th>2014</th>\n",
       "      <th>2015</th>\n",
       "      <th>2016</th>\n",
       "      <th>2017</th>\n",
       "      <th>2018</th>\n",
       "    </tr>\n",
       "    <tr>\n",
       "      <th>institution_name</th>\n",
       "      <th></th>\n",
       "      <th></th>\n",
       "      <th></th>\n",
       "      <th></th>\n",
       "      <th></th>\n",
       "    </tr>\n",
       "  </thead>\n",
       "  <tbody>\n",
       "    <tr>\n",
       "      <th>岡山大学</th>\n",
       "      <td>132</td>\n",
       "      <td>148</td>\n",
       "      <td>125</td>\n",
       "      <td>150</td>\n",
       "      <td>173</td>\n",
       "    </tr>\n",
       "    <tr>\n",
       "      <th>金沢大学</th>\n",
       "      <td>141</td>\n",
       "      <td>124</td>\n",
       "      <td>134</td>\n",
       "      <td>143</td>\n",
       "      <td>142</td>\n",
       "    </tr>\n",
       "    <tr>\n",
       "      <th>千葉大学</th>\n",
       "      <td>131</td>\n",
       "      <td>138</td>\n",
       "      <td>125</td>\n",
       "      <td>124</td>\n",
       "      <td>119</td>\n",
       "    </tr>\n",
       "    <tr>\n",
       "      <th>新潟大学</th>\n",
       "      <td>133</td>\n",
       "      <td>133</td>\n",
       "      <td>128</td>\n",
       "      <td>138</td>\n",
       "      <td>108</td>\n",
       "    </tr>\n",
       "    <tr>\n",
       "      <th>熊本大学</th>\n",
       "      <td>99</td>\n",
       "      <td>95</td>\n",
       "      <td>115</td>\n",
       "      <td>118</td>\n",
       "      <td>106</td>\n",
       "    </tr>\n",
       "    <tr>\n",
       "      <th>長崎大学</th>\n",
       "      <td>103</td>\n",
       "      <td>110</td>\n",
       "      <td>113</td>\n",
       "      <td>89</td>\n",
       "      <td>100</td>\n",
       "    </tr>\n",
       "  </tbody>\n",
       "</table>\n",
       "</div>"
      ],
      "text/plain": [
       "startfiscalyear   2014  2015  2016  2017  2018\n",
       "institution_name                              \n",
       "岡山大学               132   148   125   150   173\n",
       "金沢大学               141   124   134   143   142\n",
       "千葉大学               131   138   125   124   119\n",
       "新潟大学               133   133   128   138   108\n",
       "熊本大学                99    95   115   118   106\n",
       "長崎大学               103   110   113    89   100"
      ]
     },
     "execution_count": 18,
     "metadata": {},
     "output_type": "execute_result"
    }
   ],
   "source": [
    "kyuurokucode = [12501, 13101, 13301, 15301, 17301, 17401]\n",
    "kyuuroku = df[df['institution_niicode'].isin(kyuurokucode)]\n",
    "pivot = pd.crosstab(kyuuroku['institution_name'], kyuuroku['startfiscalyear'])\n",
    "pivot = pivot.sort_values(2018, ascending=False)\n",
    "pivot"
   ]
  },
  {
   "cell_type": "code",
   "execution_count": 8,
   "metadata": {},
   "outputs": [
    {
     "ename": "NameError",
     "evalue": "name 'kyuurokucode' is not defined",
     "output_type": "error",
     "traceback": [
      "\u001b[1;31m---------------------------------------------------------------------------\u001b[0m",
      "\u001b[1;31mNameError\u001b[0m                                 Traceback (most recent call last)",
      "\u001b[1;32m<ipython-input-8-7ea2e1aa3f1a>\u001b[0m in \u001b[0;36m<module>\u001b[1;34m()\u001b[0m\n\u001b[1;32m----> 1\u001b[1;33m \u001b[0mkyuuroku\u001b[0m \u001b[1;33m=\u001b[0m \u001b[0mdf\u001b[0m\u001b[1;33m[\u001b[0m\u001b[0mdf\u001b[0m\u001b[1;33m[\u001b[0m\u001b[1;34m'institution_niicode'\u001b[0m\u001b[1;33m]\u001b[0m\u001b[1;33m.\u001b[0m\u001b[0misin\u001b[0m\u001b[1;33m(\u001b[0m\u001b[0mkyuurokucode\u001b[0m\u001b[1;33m)\u001b[0m\u001b[1;33m]\u001b[0m\u001b[1;33m\u001b[0m\u001b[0m\n\u001b[0m\u001b[0;32m      2\u001b[0m \u001b[0mpivot\u001b[0m \u001b[1;33m=\u001b[0m \u001b[0mpd\u001b[0m\u001b[1;33m.\u001b[0m\u001b[0mcrosstab\u001b[0m\u001b[1;33m(\u001b[0m\u001b[0mkyuuroku\u001b[0m\u001b[1;33m[\u001b[0m\u001b[1;34m'institution_name'\u001b[0m\u001b[1;33m]\u001b[0m\u001b[1;33m,\u001b[0m \u001b[0mkyuuroku\u001b[0m\u001b[1;33m[\u001b[0m\u001b[1;34m'startfiscalyear'\u001b[0m\u001b[1;33m]\u001b[0m\u001b[1;33m)\u001b[0m\u001b[1;33m\u001b[0m\u001b[0m\n\u001b[0;32m      3\u001b[0m \u001b[0mpivot\u001b[0m \u001b[1;33m=\u001b[0m \u001b[0mpivot\u001b[0m\u001b[1;33m.\u001b[0m\u001b[0msort_values\u001b[0m\u001b[1;33m(\u001b[0m\u001b[1;36m2018\u001b[0m\u001b[1;33m,\u001b[0m \u001b[0mascending\u001b[0m\u001b[1;33m=\u001b[0m\u001b[1;32mFalse\u001b[0m\u001b[1;33m)\u001b[0m\u001b[1;33m\u001b[0m\u001b[0m\n\u001b[0;32m      4\u001b[0m \u001b[0mpivot\u001b[0m \u001b[1;33m=\u001b[0m \u001b[0mpivot\u001b[0m\u001b[1;33m.\u001b[0m\u001b[0mT\u001b[0m\u001b[1;33m\u001b[0m\u001b[0m\n\u001b[0;32m      5\u001b[0m \u001b[0max\u001b[0m \u001b[1;33m=\u001b[0m \u001b[0mpivot\u001b[0m\u001b[1;33m.\u001b[0m\u001b[0mplot\u001b[0m\u001b[1;33m(\u001b[0m\u001b[1;33m)\u001b[0m\u001b[1;33m\u001b[0m\u001b[0m\n",
      "\u001b[1;31mNameError\u001b[0m: name 'kyuurokucode' is not defined"
     ]
    }
   ],
   "source": [
    "kyuuroku = df[df['institution_niicode'].isin(kyuurokucode)]\n",
    "pivot = pd.crosstab(kyuuroku['institution_name'], kyuuroku['startfiscalyear'])\n",
    "pivot = pivot.sort_values(2018, ascending=False)\n",
    "pivot = pivot.T\n",
    "ax = pivot.plot()\n",
    "ax.set_title('基盤C一般の新規採択件数')\n",
    "ax.legend(bbox_to_anchor=(1.05, 1), loc='upper left', borderaxespad=0, fontsize=12)\n",
    "ax.set_xlabel(\"採択年度\")\n",
    "ax.set_ylabel(\"採択件数\")\n",
    "ax.set_ylim(0)"
   ]
  },
  {
   "cell_type": "code",
   "execution_count": null,
   "metadata": {},
   "outputs": [],
   "source": []
  }
 ],
 "metadata": {
  "kernelspec": {
   "display_name": "Python 3",
   "language": "python",
   "name": "python3"
  },
  "language_info": {
   "codemirror_mode": {
    "name": "ipython",
    "version": 3
   },
   "file_extension": ".py",
   "mimetype": "text/x-python",
   "name": "python",
   "nbconvert_exporter": "python",
   "pygments_lexer": "ipython3",
   "version": "3.6.5"
  }
 },
 "nbformat": 4,
 "nbformat_minor": 2
}
